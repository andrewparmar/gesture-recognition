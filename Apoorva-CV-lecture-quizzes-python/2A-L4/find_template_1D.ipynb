{
 "cells": [
  {
   "cell_type": "code",
   "execution_count": 26,
   "metadata": {},
   "outputs": [
    {
     "name": "stdout",
     "output_type": "stream",
     "text": [
      "Signal: \n",
      " [ 0  1  2  3  4  5  6  7  8  9 10 11 12 13 14] \n",
      " [-1  0  0  5  1  1  0  0 -1 -7  2  1  0  0 -1]\n",
      "Template: \n",
      " [0 1 2] \n",
      " [-1 -7  2]\n",
      "Index: 10\n"
     ]
    }
   ],
   "source": [
    "%matplotlib inline\n",
    "import matplotlib.pyplot as plt\n",
    "import numpy as np\n",
    "import scipy.signal as sp\n",
    "\n",
    "\n",
    "def find_template_1D(t, s):\n",
    "    # TODO: Locate template t in signal s and return index. Use scipy.signal.correlate2d\n",
    "    corr = sp.correlate2d(s, t)\n",
    "    return np.argmax(corr)\n",
    "\n",
    "s = np.array([[-1, 0, 0, 5, 1, 1, 0, 0, -1, -7, 2, 1, 0, 0, -1]])\n",
    "t = np.array([[-1, -7, 2]])\n",
    "\n",
    "print(\"Signal: \\n {} \\n {}\".format(np.array(range(s.shape[1])), s[0]))\n",
    "print(\"Template: \\n {} \\n {}\".format(np.array(range(t.shape[1])), t[0]))\n",
    "\n",
    "index = find_template_1D(t, s)\n",
    "print(\"Index: {}\".format(index))"
   ]
  },
  {
   "cell_type": "code",
   "execution_count": null,
   "metadata": {},
   "outputs": [],
   "source": []
  }
 ],
 "metadata": {
  "kernelspec": {
   "display_name": "Python 3",
   "language": "python",
   "name": "python3"
  },
  "language_info": {
   "codemirror_mode": {
    "name": "ipython",
    "version": 3
   },
   "file_extension": ".py",
   "mimetype": "text/x-python",
   "name": "python",
   "nbconvert_exporter": "python",
   "pygments_lexer": "ipython3",
   "version": "3.7.6"
  }
 },
 "nbformat": 4,
 "nbformat_minor": 2
}
