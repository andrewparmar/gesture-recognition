{
 "cells": [
  {
   "cell_type": "code",
   "execution_count": 49,
   "metadata": {},
   "outputs": [
    {
     "name": "stdout",
     "output_type": "stream",
     "text": [
      "[array([100.]), array([50.])]\n"
     ]
    }
   ],
   "source": [
    "%matplotlib inline\n",
    "import matplotlib.pyplot as plt\n",
    "import cv2\n",
    "import numpy as np\n",
    "\n",
    "# Project a point from 3D to 2D using a matrix operation\n",
    "\n",
    "# Given: Point p in 3-space [x y z], and focal length f\n",
    "# Return: Location of projected point on 2D image plane [u v]\n",
    "\n",
    "\n",
    "def project_point(p, f):\n",
    "    # TODO: Define and apply projection matrix\n",
    "    A = np.array([[1, 0, 0,    0],\n",
    "                  [0, 1, 0,    0],\n",
    "                  [0, 0, 1./f, 0]])\n",
    "    \n",
    "    p_hom = np.hstack((p.flatten(), 1))\n",
    "    \n",
    "    proj = np.dot(A, p_hom.reshape(4,1))\n",
    "    \n",
    "    u = proj[0] / proj[2]\n",
    "    v = proj[1] / proj[2]\n",
    "    return [u, v]\n",
    "\n",
    "\n",
    "# Test: Given point and focal length (units: mm)\n",
    "p = np.array([[200, 100, 100]])\n",
    "f = 50\n",
    "\n",
    "print(project_point(p, f))"
   ]
  },
  {
   "cell_type": "code",
   "execution_count": null,
   "metadata": {},
   "outputs": [],
   "source": []
  }
 ],
 "metadata": {
  "kernelspec": {
   "display_name": "Python 3",
   "language": "python",
   "name": "python3"
  },
  "language_info": {
   "codemirror_mode": {
    "name": "ipython",
    "version": 3
   },
   "file_extension": ".py",
   "mimetype": "text/x-python",
   "name": "python",
   "nbconvert_exporter": "python",
   "pygments_lexer": "ipython3",
   "version": "3.7.6"
  }
 },
 "nbformat": 4,
 "nbformat_minor": 2
}
